{
  "nbformat": 4,
  "nbformat_minor": 0,
  "metadata": {
    "colab": {
      "name": "aip2_assign3_20211381.ipynb",
      "provenance": [],
      "authorship_tag": "ABX9TyMwr6Qzs6aynBHXuXswdE82",
      "include_colab_link": true
    },
    "kernelspec": {
      "name": "python3",
      "display_name": "Python 3"
    },
    "language_info": {
      "name": "python"
    }
  },
  "cells": [
    {
      "cell_type": "markdown",
      "metadata": {
        "id": "view-in-github",
        "colab_type": "text"
      },
      "source": [
        "<a href=\"https://colab.research.google.com/github/01Joseph-Hwang10/AI_fundamentals/blob/main/aip2_assign3_20211381.ipynb\" target=\"_parent\"><img src=\"https://colab.research.google.com/assets/colab-badge.svg\" alt=\"Open In Colab\"/></a>"
      ]
    },
    {
      "cell_type": "code",
      "metadata": {
        "id": "YjG-yfoPalsW"
      },
      "source": [
        "import numpy as np\n",
        "import pandas as pd\n",
        "from sklearn.preprocessing import StandardScaler\n",
        "\n",
        "scaler = StandardScaler()\n",
        "\n",
        "housing = pd.read_csv('https://raw.githubusercontent.com/ageron/handson-ml/master/datasets/housing/housing.csv')\n",
        "\n",
        "median = housing['total_bedrooms'].median()\n",
        "housing['total_bedrooms'] = housing['total_bedrooms'].fillna(median)\n",
        "\n",
        "housing['rooms_per_household'] = housing['total_rooms'] / housing['households']\n",
        "# del housing['total_rooms']\n",
        "\n",
        "# housing['rooms_per_household'] = housing['total_rooms'] / housing['households'] # Feature를 이걸 쓰는거랑\n",
        "\n",
        "housing['bedrooms_per_household'] = housing['total_bedrooms'] / housing['total_rooms'] # Feature를 이걸 쓰는거랑 결과가 조금씩 다릅니다.\n",
        "\n",
        "del housing['total_rooms'], housing['total_bedrooms']\n",
        "\n",
        "col_list = list(housing)\n",
        "col_list.remove(\"ocean_proximity\") # text type\n",
        "col_list.remove(\"median_house_value\") # target variables needs not to be scaled\n",
        "\n",
        "# generate a new dataframe that consist of numeric type only\n",
        "housing_numeric = housing[col_list]\n",
        "housing_scaled = scaler.fit_transform(housing_numeric)\n",
        "# Data type conversion from 'Series' to 'DataFrame'\n",
        "housing_scaled_df = pd.DataFrame(housing_scaled, index=housing_numeric.index, columns=housing_numeric.columns)\n",
        "\n",
        "# Concatenate\n",
        "housing = pd.concat([housing_scaled_df, housing[\"median_house_value\"], housing[\"ocean_proximity\"]], axis=1)\n",
        "\n",
        "housing = pd.get_dummies(housing)"
      ],
      "execution_count": 17,
      "outputs": []
    },
    {
      "cell_type": "code",
      "metadata": {
        "colab": {
          "base_uri": "https://localhost:8080/"
        },
        "id": "ie82CDNGY-J7",
        "outputId": "e232b5b4-3528-477c-8735-9efc996e91c5"
      },
      "source": [
        "# training - test seperation\n",
        "from sklearn.model_selection import train_test_split\n",
        "\n",
        "train_set, test_set = train_test_split(housing, test_size=0.2, random_state=45)\n",
        "\n",
        "print('# of train_set : %.0f, # of test_set : %.0f' % (train_set.shape[0], test_set.shape[0]))\n",
        "\n",
        "# feature and label seperation of training set and test set\n",
        "\n",
        "train_set_features = train_set.drop('median_house_value', axis=1)\n",
        "train_set_target = train_set['median_house_value'].copy()\n",
        "\n",
        "test_set_features = test_set.drop('median_house_value', axis=1)\n",
        "test_set_target = test_set['median_house_value'].copy()"
      ],
      "execution_count": 18,
      "outputs": [
        {
          "output_type": "stream",
          "name": "stdout",
          "text": [
            "# of train_set : 16512, # of test_set : 4128\n"
          ]
        }
      ]
    },
    {
      "cell_type": "code",
      "metadata": {
        "colab": {
          "base_uri": "https://localhost:8080/"
        },
        "id": "Df4MSRlVU-Br",
        "outputId": "cb8af2de-7b83-48df-db6d-258e5f3b2942"
      },
      "source": [
        "from sklearn.linear_model import Ridge\n",
        "from sklearn.metrics import mean_squared_error\n",
        "from sklearn.metrics import r2_score\n",
        "\n",
        "# Ridge regression\n",
        "model_ridge = Ridge(alpha = 100)\n",
        "model_ridge.fit(train_set_features, train_set_target)\n",
        "\n",
        "print(\"Train_score : \", model_ridge.score(train_set_features, train_set_target))\n",
        "\n",
        "# Ridge RMSE\n",
        "ridge_predicted = model_ridge.predict(test_set_features)\n",
        "print(\"Test_score\", r2_score(test_set_target, ridge_predicted))\n",
        "\n",
        "delta = test_set_target - ridge_predicted\n",
        "print(\"Errors in housing value prediction : \", np.mean(np.abs(delta) / test_set_target))\n",
        "\n",
        "final_ridge_mse = mean_squared_error(test_set_target, ridge_predicted)\n",
        "final_ridge_rmse = np.sqrt(final_ridge_mse)\n",
        "print('final_ridge_RMSE : ', final_ridge_rmse)\n",
        "\n",
        "# command to hide the warning box\n",
        "import warnings\n",
        "warnings.filterwarnings(action = \"ignore\")"
      ],
      "execution_count": 20,
      "outputs": [
        {
          "output_type": "stream",
          "name": "stdout",
          "text": [
            "Train_score :  0.652511581004448\n",
            "Test_score 0.6333956237676854\n",
            "Errors in housing value prediction :  0.28415587884460786\n",
            "final_ridge_RMSE :  69746.54943237505\n"
          ]
        }
      ]
    },
    {
      "cell_type": "code",
      "metadata": {
        "colab": {
          "base_uri": "https://localhost:8080/"
        },
        "id": "vmZ-PrprcGSD",
        "outputId": "620818d4-b3e7-42fb-8ebd-b5cc47a9110e"
      },
      "source": [
        "from sklearn.linear_model import Lasso\n",
        "\n",
        "# Lasso regression\n",
        "model_lasso = Lasso(alpha = 1000)\n",
        "model_lasso.fit(train_set_features, train_set_target)\n",
        "\n",
        "print(\"Train_score : \", model_lasso.score(train_set_features, train_set_target))\n",
        "\n",
        "lasso_predicted = model_lasso.predict(test_set_features)\n",
        "print(\"Test_score : \", r2_score(test_set_target, lasso_predicted))\n",
        "\n",
        "delta = test_set_target - lasso_predicted\n",
        "print('Errors in housing value prediction : ', np.mean(np.abs(delta) / test_set_target))\n",
        "\n",
        "final_lasso_mse = mean_squared_error(test_set_target, lasso_predicted)\n",
        "final_lasso_rmse = np.sqrt(final_lasso_mse)\n",
        "print(\"RMSE is : \", final_lasso_rmse)\n"
      ],
      "execution_count": 21,
      "outputs": [
        {
          "output_type": "stream",
          "name": "stdout",
          "text": [
            "Train_score :  0.6477400839070926\n",
            "Test_score :  0.6353348735073737\n",
            "Errors in housing value prediction :  0.28205827189150406\n",
            "RMSE is :  69561.83352439076\n"
          ]
        }
      ]
    }
  ]
}