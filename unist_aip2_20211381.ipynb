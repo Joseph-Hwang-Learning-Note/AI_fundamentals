{
  "cells": [
    {
      "cell_type": "markdown",
      "metadata": {
        "id": "view-in-github",
        "colab_type": "text"
      },
      "source": [
        "<a href=\"https://colab.research.google.com/github/01Joseph-Hwang10/AI_fundamentals/blob/main/unist_aip2_20211381.ipynb\" target=\"_parent\"><img src=\"https://colab.research.google.com/assets/colab-badge.svg\" alt=\"Open In Colab\"/></a>"
      ]
    },
    {
      "cell_type": "code",
      "execution_count": null,
      "metadata": {
        "id": "AUKuNEIsALD3"
      },
      "outputs": [],
      "source": [
        "# Import libraries\n",
        "import pandas as pd\n",
        "import numpy as np\n",
        "import matplotlib.pyplot as plt\n",
        "import os\n",
        "from tqdm import tqdm, tqdm_notebook\n",
        "import tensorflow as tf\n",
        "from sklearn.model_selection import train_test_split\n",
        "\n",
        "from glob import glob\n",
        "from tensorflow.keras.models import Model, Sequential\n",
        "from tensorflow.keras.layers import *\n",
        "from tensorflow import keras\n",
        "\n",
        "from tensorflow.keras import callbacks\n",
        "from tensorflow.keras.preprocessing.image import ImageDataGenerator"
      ]
    },
    {
      "cell_type": "code",
      "execution_count": null,
      "metadata": {
        "colab": {
          "base_uri": "https://localhost:8080/"
        },
        "id": "uUeff6mUAojA",
        "outputId": "b1e5573a-a468-47b3-8d57-ee00f621b931"
      },
      "outputs": [
        {
          "output_type": "stream",
          "name": "stdout",
          "text": [
            "Drive already mounted at /content/gdrive/; to attempt to forcibly remount, call drive.mount(\"/content/gdrive/\", force_remount=True).\n"
          ]
        }
      ],
      "source": [
        "#Mount your google drive\n",
        "from google.colab import drive\n",
        "drive.mount('/content/gdrive/')"
      ]
    },
    {
      "cell_type": "code",
      "execution_count": null,
      "metadata": {
        "id": "3AQJWb67AR1q"
      },
      "outputs": [],
      "source": [
        "## PLEASE MODIFY THIS ##\n",
        "\n",
        "#Train Method : ResNet50\n",
        "\n",
        "#Upload train dataset\n",
        "train_dataset_path = '/content/gdrive/MyDrive/train.npy' #Type your train dataset path. Check your own dataset path before typing it. /// ex) /content/gdrive/Mydrive/homeworks/AIP2/train.npy\n",
        "test_dataset_path = '/content/gdrive/MyDrive/test.npy' #Type your test dataset path. Check your own dataset path before typing it. /// ex) /content/gdrive/Mydrive/homeworks/AIP2/test.npy\n",
        "#You can refer the tutorial ppt if you want to know more details about this\n",
        "\n",
        "valid_ratio = 0.2 # Type the ratio for splition train data into train and valid. /// ex) the number of data = 100, valid_ratio = 0.2 --> the number of train data = 80, the number of valid data = 20 \n",
        "batch_size = 32 #Type your own batch size\n",
        "n_epoch = 50 #Type your Own Epoch num"
      ]
    },
    {
      "cell_type": "code",
      "execution_count": null,
      "metadata": {
        "colab": {
          "base_uri": "https://localhost:8080/"
        },
        "id": "nlg8evMS8nxr",
        "outputId": "d3ccf7ca-6223-4f27-8865-9b6c5c06f401"
      },
      "outputs": [
        {
          "output_type": "stream",
          "name": "stdout",
          "text": [
            "total number of img data : 4573\n",
            "total number of label data : 4573\n",
            "(64, 64, 3)\n",
            "(13,)\n"
          ]
        }
      ],
      "source": [
        "train_np_data = np.load(train_dataset_path, allow_pickle=True) #Upload train data. train_np_data consists of img(data) and label(target). \n",
        "data, target = train_np_data.item().get('data'), train_np_data.item().get('target') #Get img data(data) and label(target) from train_np_data. \n",
        "\n",
        "#Explore the dataset\n",
        "print(f\"total number of img data : {data.shape[0]}\") \n",
        "print(f\"total number of label data : {target.shape[0]}\")\n",
        "\n",
        "sample_data, sample_target = data[0], target[0]\n",
        "print(sample_data.shape) # (64, 64, 3) --> img size is 64 x 64 and its type is RGB image(3 channel).\n",
        "print(sample_target.shape) # (13, ) --> one-hot encoding for label. /// ex)  [0, 0, 0, 1, 0, 0, 0, 0, 0, 0, 0, 0, 0] --> the solution label is the 4th label.\n",
        "\n",
        "X_train, X_valid, y_train, y_valid = train_test_split(data, target, test_size=valid_ratio) # Split train data into train and valid according to the split ratio."
      ]
    },
    {
      "cell_type": "code",
      "source": [
        "# Data Augmentation\n",
        "train_datagen = ImageDataGenerator(\n",
        "        width_shift_range=0.2,\n",
        "        height_shift_range=0.2,\n",
        "        horizontal_flip=True,\n",
        "        fill_mode='nearest',\n",
        ")\n",
        "\n",
        "train_generator = train_datagen.flow(X_train, y_train, batch_size=batch_size)"
      ],
      "metadata": {
        "id": "pbP_FCRYURWm"
      },
      "execution_count": null,
      "outputs": []
    },
    {
      "cell_type": "code",
      "execution_count": null,
      "metadata": {
        "colab": {
          "base_uri": "https://localhost:8080/"
        },
        "id": "HUtrO5zg9D_p",
        "outputId": "d36e1358-5a7c-4746-a6aa-c491fd261d40"
      },
      "outputs": [
        {
          "output_type": "stream",
          "name": "stdout",
          "text": [
            "total number of img data : 1105\n",
            "shape of img : (64, 64, 3)\n"
          ]
        }
      ],
      "source": [
        "### Test method ###\n",
        "\n",
        "test_np_data = np.load(test_dataset_path, allow_pickle=True) #Upload test data. test_np_data consists of img(data) and img name(name).\n",
        "test_data, name = test_np_data.item().get('data'), test_np_data.item().get('name') ##Get img data(data) and name from test_np_data.\n",
        "#name will be used for creating result.csv file. So, Consider only data.\n",
        "\n",
        "#Explore the dataset\n",
        "print(f\"total number of img data : {test_data.shape[0]}\") \n",
        "print(f\"shape of img : {test_data.shape[1:]}\")"
      ]
    },
    {
      "cell_type": "code",
      "execution_count": null,
      "metadata": {
        "colab": {
          "base_uri": "https://localhost:8080/",
          "height": 304
        },
        "id": "_TNfaxXou978",
        "outputId": "827d7bac-21fe-48a9-9504-e3f396e8ccef"
      },
      "outputs": [
        {
          "output_type": "stream",
          "name": "stdout",
          "text": [
            "Genre : Symbolism\n"
          ]
        },
        {
          "output_type": "execute_result",
          "data": {
            "text/plain": [
              "<matplotlib.image.AxesImage at 0x7fb0982f7b10>"
            ]
          },
          "metadata": {},
          "execution_count": 76
        },
        {
          "output_type": "display_data",
          "data": {
            "image/png": "[encoded data removed]",
            "text/plain": [
              "<Figure size 432x288 with 1 Axes>"
            ]
          },
          "metadata": {
            "needs_background": "light"
          }
        }
      ],
      "source": [
        "#Visualize the image sample\n",
        "%matplotlib inline\n",
        "\n",
        "genre_dict = {'0': 'Symbolism', '1': 'High Renaissance', '2': 'Post-Impressionism', '3': 'Pop Art', '4': 'Impressionism', '5': 'Northern Renaissance', '6': 'Surrealism', \n",
        "         '7': 'Expressionism', '8': 'Romanticism', '9': 'Early Renaissance', '10': 'Baroque', '11': 'Cubism', '12': 'Primitivism'} # Dictionary used for converting one-hot encoding to genre name.\n",
        "\n",
        "img_order = 0 # You can select any image you want by changing the variable 'img_order'.\n",
        "sample_data = data[img_order] #Get the image in data. \n",
        "sample_data = sample_data.astype(np.int)\n",
        "sample_target = target[img_order] #Get the target about the selected image. it is the state of one-hot encoding.\n",
        "sample_genre = genre_dict[str(np.argmax(sample_target))] #Convert one-hot encoding to genre name\n",
        "\n",
        "print(f\"Genre : {sample_genre}\")\n",
        "plt.imshow(sample_data)"
      ]
    },
    {
      "cell_type": "code",
      "execution_count": null,
      "metadata": {
        "colab": {
          "base_uri": "https://localhost:8080/"
        },
        "id": "KpfsKXJLAfwC",
        "outputId": "d5ebaa0f-1564-4b45-8cf9-48dc68f8afc1"
      },
      "outputs": [
        {
          "output_type": "stream",
          "name": "stdout",
          "text": [
            "Total number of batches = 114 and 28\n"
          ]
        }
      ],
      "source": [
        "STEP_SIZE_TRAIN = X_train.shape[0]//batch_size\n",
        "STEP_SIZE_VALID = X_valid.shape[0]//batch_size\n",
        "\n",
        "print(\"Total number of batches =\", STEP_SIZE_TRAIN, \"and\", STEP_SIZE_VALID)"
      ]
    },
    {
      "cell_type": "code",
      "execution_count": null,
      "metadata": {
        "id": "pn4eTaUYRmRS"
      },
      "outputs": [],
      "source": [
        "class ResidualBlock50():\n",
        "\n",
        "  def _main_layers(self, filters, strides):\n",
        "    return [\n",
        "                   Conv2D(filters, (1,1), strides=strides, padding='valid', use_bias=False, kernel_initializer=\"he_normal\"),\n",
        "                   BatchNormalization(),\n",
        "                   self.activation,\n",
        "                   Conv2D(filters, (3,3), strides=1, padding='same', use_bias=False, kernel_initializer=\"he_normal\"),\n",
        "                   BatchNormalization(),\n",
        "                   self.activation,\n",
        "                   Conv2D(filters * 4, (1,1), strides=1, padding='valid', use_bias=False, kernel_initializer=\"he_normal\"),\n",
        "                   BatchNormalization(),\n",
        "    ]\n",
        "  \n",
        "  def _skip_layers(self, filters, strides):\n",
        "    return [\n",
        "                   Conv2D(filters * 4, (1,1), strides=strides, padding='valid', use_bias=False, kernel_initializer=\"he_normal\"),\n",
        "                   BatchNormalization(),\n",
        "    ]\n",
        "\n",
        "  def __init__(self, filters, n, downsample=False, activation='relu', **kwargs):\n",
        "    super(ResidualBlock50, self).__init__(**kwargs)\n",
        "    self.activation = keras.activations.get(activation)\n",
        "    self.filters = filters\n",
        "    self.n = n\n",
        "    self.downsample = downsample\n",
        "\n",
        "  def __call__(self, inputs):\n",
        "    shortcut = inputs\n",
        "    out = inputs\n",
        "    downsampled=False\n",
        "    strides=2 if self.downsample else 1\n",
        "    for iter in range(self.n):\n",
        "      layers = self._main_layers(self.filters, strides=(strides if not downsampled else 1))\n",
        "      for layer in layers:\n",
        "        out = layer(out)\n",
        "      if not downsampled:\n",
        "        skip_layers = self._skip_layers(self.filters, strides=strides)\n",
        "        for layer in skip_layers:\n",
        "          shortcut = layer(shortcut)\n",
        "      downsampled=True\n",
        "      out = Add()([out, shortcut])\n",
        "      out = self.activation(out)\n",
        "    return out"
      ]
    },
    {
      "cell_type": "code",
      "execution_count": null,
      "metadata": {
        "id": "veWpVCAmRvrc"
      },
      "outputs": [],
      "source": [
        "class ResNet50():\n",
        "\n",
        "  def _initial_layer(self):\n",
        "    return [\n",
        "            Conv2D(64, (7,7), strides=2, input_shape=[64,64,3], padding='same', use_bias=False),\n",
        "            BatchNormalization(),\n",
        "            Activation('relu'),\n",
        "            MaxPooling2D(pool_size=3, strides=2)\n",
        "    ]\n",
        "  def build_model(n1, n2, n3, n4):\n",
        "    model = Sequential([\n",
        "                        Dense(n1),\n",
        "                        Dense(n2),\n",
        "                        ...\n",
        "    ])\n",
        "\n",
        "\n",
        "    analyze_model(model)\n",
        "  def _last_layer(self):\n",
        "    # model = Sequential([\n",
        "    #  \n",
        "    ])\n",
        "    # \n",
        "    return [\n",
        "            GlobalAveragePooling2D(),\n",
        "            Flatten(),\n",
        "            Dense(len(genre_dict.keys()), activation='softmax')\n",
        "    ]\n",
        "\n",
        "  def __init__(self, **kwargs):\n",
        "    self.layers = [\n",
        "                *self._initial_layer(),\n",
        "                ResidualBlock50(64, 3),\n",
        "                ResidualBlock50(128, 4, downsample=True),\n",
        "                ResidualBlock50(256, 6, downsample=True),\n",
        "                ResidualBlock50(512, 3, downsample=True),\n",
        "                *self._last_layer(),\n",
        "    ]\n",
        "\n",
        "  def build(self) -> Model:\n",
        "    inputs = keras.Input(shape=(64,64,3), dtype=\"float32\")\n",
        "    outputs = inputs\n",
        "    for layer in self.layers:\n",
        "      outputs = layer(outputs)\n",
        "    return Model(inputs, outputs)"
      ]
    },
    {
      "cell_type": "code",
      "execution_count": null,
      "metadata": {
        "id": "gm34FxSMAw-H"
      },
      "outputs": [],
      "source": [
        "## PLEASE MODIFY THIS ##\n",
        "model = ResNet50().build()\n",
        "optimizer = keras.optimizers.Nadam(learning_rate=0.001, beta_1=0.9, beta_2=0.999)\n",
        "\n",
        "# Complie your model\n",
        "model.compile(optimizer=optimizer, loss='categorical_crossentropy', metrics=['accuracy'])"
      ]
    },
    {
      "cell_type": "code",
      "execution_count": null,
      "metadata": {
        "colab": {
          "base_uri": "https://localhost:8080/",
          "height": 242
        },
        "id": "_GGIfjfofyq8",
        "outputId": "8ff9ab88-5267-43b3-ba8d-e6869acb3254"
      },
      "outputs": [
        {
          "output_type": "error",
          "ename": "NameError",
          "evalue": "ignored",
          "traceback": [
            "\u001b[0;31m---------------------------------------------------------------------------\u001b[0m",
            "\u001b[0;31mNameError\u001b[0m                                 Traceback (most recent call last)",
            "\u001b[0;32m<ipython-input-1-479a8b8b25cb>\u001b[0m in \u001b[0;36m<module>\u001b[0;34m()\u001b[0m\n\u001b[1;32m      2\u001b[0m \u001b[0;32mdef\u001b[0m \u001b[0mexponential_decay\u001b[0m\u001b[0;34m(\u001b[0m\u001b[0mepoch\u001b[0m\u001b[0;34m,\u001b[0m \u001b[0mlr\u001b[0m\u001b[0;34m)\u001b[0m\u001b[0;34m:\u001b[0m\u001b[0;34m\u001b[0m\u001b[0;34m\u001b[0m\u001b[0m\n\u001b[1;32m      3\u001b[0m   \u001b[0;32mreturn\u001b[0m \u001b[0mlr\u001b[0m \u001b[0;34m*\u001b[0m \u001b[0;36m0.1\u001b[0m \u001b[0;34m**\u001b[0m \u001b[0;34m(\u001b[0m\u001b[0;36m1\u001b[0m \u001b[0;34m/\u001b[0m \u001b[0;36m20\u001b[0m\u001b[0;34m)\u001b[0m\u001b[0;34m\u001b[0m\u001b[0;34m\u001b[0m\u001b[0m\n\u001b[0;32m----> 4\u001b[0;31m \u001b[0mlr_scheduler\u001b[0m \u001b[0;34m=\u001b[0m \u001b[0mcallbacks\u001b[0m\u001b[0;34m.\u001b[0m\u001b[0mLearningRateScheduler\u001b[0m\u001b[0;34m(\u001b[0m\u001b[0mexponential_decay\u001b[0m\u001b[0;34m)\u001b[0m\u001b[0;34m\u001b[0m\u001b[0;34m\u001b[0m\u001b[0m\n\u001b[0m\u001b[1;32m      5\u001b[0m \u001b[0;34m\u001b[0m\u001b[0m\n\u001b[1;32m      6\u001b[0m \u001b[0;31m# Early stopping\u001b[0m\u001b[0;34m\u001b[0m\u001b[0;34m\u001b[0m\u001b[0;34m\u001b[0m\u001b[0m\n",
            "\u001b[0;31mNameError\u001b[0m: name 'callbacks' is not defined"
          ]
        }
      ],
      "source": [
        "# Learning rate scheduling\n",
        "def exponential_decay(epoch, lr):\n",
        "  return lr * 0.1 ** (1 / 20)\n",
        "lr_scheduler = callbacks.LearningRateScheduler(exponential_decay)\n",
        "\n",
        "# Early stopping\n",
        "earlystopping = callbacks.EarlyStopping(patience=5, restore_best_weights=True)\n",
        "\n",
        "# Training\n",
        "history = model.fit(train_generator, epochs=n_epoch, batch_size=batch_size, validation_data=(X_valid, y_valid), callbacks=[earlystopping, lr_scheduler])\n",
        "score = model.evaluate(X_valid, y_valid)"
      ]
    },
    {
      "cell_type": "code",
      "execution_count": null,
      "metadata": {
        "colab": {
          "base_uri": "https://localhost:8080/"
        },
        "id": "_NYxjH4W0sQs",
        "outputId": "e563ac71-608f-4e80-93c8-8858dd1b62fa"
      },
      "outputs": [
        {
          "output_type": "stream",
          "name": "stdout",
          "text": [
            "[ 3  2 10 ...  3 11  7]\n"
          ]
        }
      ],
      "source": [
        "# Example of model prediction\n",
        "output = model.predict(test_data) #Predict the result with your trained model.\n",
        "output = np.argmax(output, axis = -1) #Convert one-hot encoding to label\n",
        "print(output)"
      ]
    },
    {
      "cell_type": "code",
      "execution_count": null,
      "metadata": {
        "id": "JJqXU6X-1GKS",
        "colab": {
          "base_uri": "https://localhost:8080/"
        },
        "outputId": "23e0ab23-0e9c-4d02-dee6-2c6a719601a3"
      },
      "outputs": [
        {
          "output_type": "stream",
          "name": "stdout",
          "text": [
            "                img  predictions\n",
            "0        test_0.jpg            3\n",
            "1        test_1.jpg            2\n",
            "2        test_2.jpg            4\n",
            "3        test_3.jpg            3\n",
            "4        test_4.jpg            4\n",
            "...             ...          ...\n",
            "1100  test_1100.jpg           12\n",
            "1101  test_1101.jpg            3\n",
            "1102  test_1102.jpg           11\n",
            "1103  test_1103.jpg            2\n",
            "1104  test_1104.jpg            4\n",
            "\n",
            "[1105 rows x 2 columns]\n"
          ]
        }
      ],
      "source": [
        "# Save your result to csv file.\n",
        "data = {\n",
        "    'img' : name,\n",
        "    'predictions' : output\n",
        "}\n",
        "\n",
        "# You should submit the saved `result.csv' to the codalab.\n",
        "\n",
        "def _key(_str): #extract the order from img_name \n",
        "  # print(_str)\n",
        "  str2int = int(_str.split('_')[1].split('.')[0])\n",
        "  return str2int\n",
        "  \n",
        "output_df = pd.DataFrame(data) # Create dataframe \n",
        "output_df['order'] = output_df['img'].apply(_key) #the 'order' column is used for sorting output in descending order.\n",
        "output_df = output_df.sort_values(by = 'order')\n",
        "output_df = output_df[['img', 'predictions']].reset_index(drop = True) #Extract colunms necessary to evaluate in Codalab.\n",
        "\n",
        "print(output_df)\n",
        "output_df.to_csv('result.csv')"
      ]
    }
  ],
  "metadata": {
    "accelerator": "GPU",
    "colab": {
      "collapsed_sections": [],
      "name": "unist_aip2_20211381",
      "provenance": [],
      "include_colab_link": true
    },
    "kernelspec": {
      "display_name": "Python 3",
      "name": "python3"
    },
    "language_info": {
      "name": "python"
    }
  },
  "nbformat": 4,
  "nbformat_minor": 0
}